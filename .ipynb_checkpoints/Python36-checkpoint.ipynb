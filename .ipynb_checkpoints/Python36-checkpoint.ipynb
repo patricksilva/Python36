{
 "cells": [
  {
   "cell_type": "markdown",
   "metadata": {},
   "source": [
    "# Exploring Python 3.6"
   ]
  },
  {
   "cell_type": "markdown",
   "metadata": {},
   "source": [
    "## Data Structures\n",
    "\n",
    "_\"In computer science, a data structure is a particular **way of organizing and storing data** in a computer so that it can be accessed and modified efficiently. More precisely, a data structure is a collection of data values, the relationships among them, and the functions or operations that can be applied to the data.\" - [Wikipedia][2]_\n",
    "\n",
    "[2]:https://en.wikipedia.org/wiki/Data_structure"
   ]
  },
  {
   "cell_type": "markdown",
   "metadata": {},
   "source": [
    "### Python Std Types - Lists\n",
    "\n",
    "_\"Lists are mutable sequences, typically used to store collections of homogeneous items (where the precise degree of similarity will vary by application).\" - [Python Documentation][2]_\n",
    "\n",
    "[2]:https://docs.python.org/3/library/stdtypes.html#lists"
   ]
  },
  {
   "cell_type": "code",
   "execution_count": null,
   "metadata": {
    "collapsed": false
   },
   "outputs": [],
   "source": [
    "## Construct a Python List using:\n",
    "\n",
    "# a pair of square brackets to denote the empty list\n",
    "list1 = []\n",
    "# square brackets, separating items with commas\n",
    "list2 = ['a'],['a','b','c']\n",
    "# a list comprehension [x for x in iterable]\n",
    "list3 = [x for x in range(1, 10)]\n",
    "# the type constructor\n",
    "list4 = list()\n",
    "\n",
    "print('list1:')\n",
    "print(list1)\n",
    "\n",
    "print('list2:')\n",
    "print(list2)\n",
    "\n",
    "print('list3:')\n",
    "print(list3)\n",
    "\n",
    "print('list4:')\n",
    "print(list4)\n"
   ]
  },
  {
   "cell_type": "markdown",
   "metadata": {},
   "source": [
    "### Python Lists Comprehensions\n",
    "\n",
    "_\"List comprehensions provide a concise way to create lists. Common applications are to make new lists where each element is the result of some operations applied to each member of another sequence or iterable, or to create a subsequence of those elements that satisfy a certain condition.\" - [Python Documentation][3]_\n",
    "\n",
    "[3]:https://docs.python.org/3/tutorial/datastructures.html#list-comprehensions"
   ]
  },
  {
   "cell_type": "markdown",
   "metadata": {},
   "source": [
    "#### Create a List"
   ]
  },
  {
   "cell_type": "code",
   "execution_count": null,
   "metadata": {
    "collapsed": false
   },
   "outputs": [],
   "source": [
    "# create a list of x integer squares where x < 11\n",
    "squares = []\n",
    "for x in range(1,11):\n",
    "    squares.append(x**2)\n",
    "print(squares)"
   ]
  },
  {
   "cell_type": "markdown",
   "metadata": {},
   "source": [
    "#### Create a List Comprehension"
   ]
  },
  {
   "cell_type": "code",
   "execution_count": null,
   "metadata": {
    "collapsed": false
   },
   "outputs": [],
   "source": [
    "squares = [x**2 for x in range(1,11)]\n",
    "print(squares)"
   ]
  },
  {
   "cell_type": "markdown",
   "metadata": {},
   "source": [
    "## References\n",
    "\n",
    "* [Python Data Structures Documentation][1]\n",
    "* [Python Std Types - Lists][2]\n",
    "* [Python Lists Comprehension][3]\n",
    "* [Concrete Objects Layer][4]\n",
    "\n",
    "[4]:https://docs.python.org/3/c-api/concrete.html\n",
    "[3]:https://docs.python.org/3/tutorial/datastructures.html#list-comprehensions\n",
    "[2]:https://docs.python.org/3/library/stdtypes.html#lists\n",
    "[1]:https://docs.python.org/3/tutorial/datastructures.html"
   ]
  }
 ],
 "metadata": {
  "kernelspec": {
   "display_name": "Python 3",
   "language": "python",
   "name": "python3"
  },
  "language_info": {
   "codemirror_mode": {
    "name": "ipython",
    "version": 3
   },
   "file_extension": ".py",
   "mimetype": "text/x-python",
   "name": "python",
   "nbconvert_exporter": "python",
   "pygments_lexer": "ipython3",
   "version": "3.6.0"
  }
 },
 "nbformat": 4,
 "nbformat_minor": 2
}
